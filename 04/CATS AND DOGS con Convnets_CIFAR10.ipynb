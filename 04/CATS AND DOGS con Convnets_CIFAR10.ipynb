{
 "cells": [
  {
   "cell_type": "markdown",
   "metadata": {},
   "source": [
    "# Perros y Gatos con Convnets en Keras CIFAR 10\n"
   ]
  },
  {
   "cell_type": "markdown",
   "metadata": {},
   "source": [
    "Se va a utilizar el dataset CIFAR 10 de 60000 imágenes a color de 32x32 de imágnes de 10 categorías. Para clasificar únicamente perros y gatos se deben obtener estas categorías del dataset.\n",
    "\n",
    "The dataset is divided into five training batches and one test batch, each with 10000 images. The test batch contains exactly 1000 randomly-selected images from each class. The training batches contain the remaining images in random order, but some training batches may contain more images from one class than another. Between them, the training batches contain exactly 5000 images from each class. \n",
    "\n",
    "Here are the classes in the dataset, as well as 10 random images from each:\n",
    "airplane \t\t\t\t\t\t\t\t\t\t\n",
    "automobile \t\t\t\t\t\t\t\t\t\t\n",
    "bird \t\t\t\t\t\t\t\t\t\t\n",
    "cat \t\t\t\t\t\t\t\t\t\t\n",
    "deer \t\t\t\t\t\t\t\t\t\t\n",
    "dog \t\t\t\t\t\t\t\t\t\t\n",
    "frog \t\t\t\t\t\t\t\t\t\t\n",
    "horse \t\t\t\t\t\t\t\t\t\t\n",
    "ship \t\t\t\t\t\t\t\t\t\t\n",
    "truck \t\t\t\t\t\t\t\t\t\t\n",
    "Loaded in this way, each of the batch files contains a dictionary with the following elements:\n",
    "\n",
    "* Data -- a 10000x3072 numpy array of uint8s. Each row of the array stores a 32x32 colour image. The first 1024 entries contain the red channel values, the next 1024 the green, and the final 1024 the blue. The image is stored in row-major order, so that the first 32 entries of the array are the red channel values of the first row of the image.\n",
    "* labels -- a list of 10000 numbers in the range 0-9. The number at index i indicates the label of the ith image in the array data.\n",
    "\n",
    "The dataset contains another file, called batches.meta. It too contains a Python dictionary object. It has the following entries:\n",
    "\n",
    "* label_names -- a 10-element list which gives meaningful names to the numeric labels in the labels array described above. For example, label_names[0] == \"airplane\", label_names[1] == \"automobile\", etc.\n",
    "\n",
    "Las categorías de nuestro interés son Perros y Gatos , que corresponden a las etiquetas 5 y 3, respectivamente\n",
    "\n"
   ]
  },
  {
   "cell_type": "markdown",
   "metadata": {},
   "source": [
    "Del archivo de Metadatos observamos que las etiquetas de perros y gatos corresponden a los números 5 y 3, respectivamente. Tomando en cuenta esto podemos extraer del arreglo de 10000x3072 de cada batch los elementos que correspondan únicamente a perros o gatos"
   ]
  },
  {
   "cell_type": "code",
   "execution_count": 1,
   "metadata": {},
   "outputs": [
    {
     "name": "stderr",
     "output_type": "stream",
     "text": [
      "Using TensorFlow backend.\n"
     ]
    },
    {
     "name": "stdout",
     "output_type": "stream",
     "text": [
      "x_train shape: (50000, 32, 32, 3)\n",
      "y_train shape: (50000, 1)\n",
      "50000 train samples\n",
      "10000 test samples\n"
     ]
    }
   ],
   "source": [
    "from keras.datasets import cifar10\n",
    "(x_train, y_train), (x_test, y_test) = cifar10.load_data()\n",
    "print('x_train shape:', x_train.shape)\n",
    "print('y_train shape:', y_train.shape)\n",
    "print(x_train.shape[0], 'train samples')\n",
    "print(x_test.shape[0], 'test samples')"
   ]
  },
  {
   "cell_type": "markdown",
   "metadata": {},
   "source": [
    "Como vimos el dataset está compuesto de 10 categorías, como sólo nos interesa clasificar entre perros y gatos, debemos extraer sólo aquellas que contengan perros o gatos. Hacemos esto tanto para los datos de entrenamiento como para los datos de validación y obtenemos los siguentes arreglos de 10000 imágenes de entrenamiento y 2000 de validación"
   ]
  },
  {
   "cell_type": "code",
   "execution_count": 2,
   "metadata": {},
   "outputs": [
    {
     "name": "stdout",
     "output_type": "stream",
     "text": [
      "Tamaño de los datos de entrenamiento (10000, 32, 32, 3)\n",
      "Tamaño de las etiquetas de entrenamiento (10000,)\n",
      "Tamaño de los datos de prueba (2000, 32, 32, 3)\n",
      "Tamaño de las etiquetas de prueba (2000,)\n"
     ]
    }
   ],
   "source": [
    "import numpy as np\n",
    "t=[]\n",
    "l=[]\n",
    "\n",
    "for i in range(0,y_train[:,0].size):\n",
    "    if y_train[i,0]==5:\n",
    "        t.append(x_train[i,:,:,:].tolist())\n",
    "        l.append(1)\n",
    "    elif y_train[i,0]==3:\n",
    "        t.append(x_train[i,:,:,:].tolist())\n",
    "        l.append(0)\n",
    "    \n",
    "train=np.array(t)\n",
    "ltrain=np.array(l)\n",
    "print('Tamaño de los datos de entrenamiento',train.shape)\n",
    "print('Tamaño de las etiquetas de entrenamiento',ltrain.shape)\n",
    "\n",
    "t=[]\n",
    "l=[]\n",
    "\n",
    "for i in range(0,y_test[:,0].size):\n",
    "    if y_test[i,0]==5:\n",
    "        t.append(x_test[i,:,:,:].tolist())\n",
    "        l.append(1)\n",
    "    elif y_test[i,0]==3:\n",
    "        t.append(x_test[i,:,:,:].tolist())\n",
    "        l.append(0)\n",
    "\n",
    "test=np.array(t)\n",
    "ltest=np.array(l)\n",
    "print('Tamaño de los datos de prueba',test.shape)\n",
    "print('Tamaño de las etiquetas de prueba',ltest.shape)"
   ]
  },
  {
   "cell_type": "markdown",
   "metadata": {},
   "source": [
    "Para dejar nuestros datos en el formato de entrada de nuestro modelo debemos cambiar los valores de los pixeles para que se encuentren en el rango de 0 a 1. También debemos convertir los labels a formato one hot."
   ]
  },
  {
   "cell_type": "code",
   "execution_count": 3,
   "metadata": {},
   "outputs": [],
   "source": [
    "train = train.astype('float32') / 255\n",
    "test = test.astype('float32') / 255"
   ]
  },
  {
   "cell_type": "markdown",
   "metadata": {},
   "source": [
    "## Definición del modelo"
   ]
  },
  {
   "cell_type": "markdown",
   "metadata": {},
   "source": [
    "Vamos a definir un modelo:\n",
    "* que recibe un tensor con las instancias de imágen con tres ejes con la dimensionalidad (32, 32, 3), \n",
    "* con 4 capas convolucionales 2D, todas con filtros 3x3 y función de activación RELU; la primera con 32 filtros, la segunda con 64 filtros, y la tercera y cuarta con 128 filtros.\n",
    "* con 3 capas intermedias de MAX pooling que toman las salidas de las capas convolucionales.\n",
    "* con una capa Flatten que permite cambiar la representación de las salidas de las capas convolucionales a un tensor de un solo eje\n",
    "* con dos capas Dense, fully connected, la primera con 512 neuronas y RELU, la segunda, la capa de salida, con 1 sola neurona que utiliza una función sigmoide para clasificar las instancias en dos clases (binarias).\n",
    "* una capa de dropout entre las capas densas con probabilidad de 30%."
   ]
  },
  {
   "cell_type": "code",
   "execution_count": 4,
   "metadata": {},
   "outputs": [],
   "source": [
    "import keras\n",
    "from keras import layers\n",
    "from keras import models"
   ]
  },
  {
   "cell_type": "code",
   "execution_count": 9,
   "metadata": {},
   "outputs": [],
   "source": [
    "model = models.Sequential()\n",
    "model.add(layers.Conv2D(32, (3, 3), activation='relu', padding='same',\n",
    "                        input_shape=(32, 32, 3)))\n",
    "model.add(layers.MaxPooling2D((2, 2)))\n",
    "model.add(layers.Conv2D(64, (3, 3),  padding='same', activation='relu'))\n",
    "model.add(layers.MaxPooling2D((2, 2)))\n",
    "model.add(layers.Conv2D(128, (3, 3),  padding='same', activation='relu'))\n",
    "model.add(layers.MaxPooling2D((2, 2)))\n",
    "model.add(layers.Flatten())\n",
    "model.add(layers.Dense(512, activation='relu'))\n",
    "model.add(layers.Dropout(0.3))\n",
    "model.add(layers.Dense(1, activation='sigmoid'))"
   ]
  },
  {
   "cell_type": "code",
   "execution_count": 10,
   "metadata": {
    "scrolled": false
   },
   "outputs": [
    {
     "name": "stdout",
     "output_type": "stream",
     "text": [
      "_________________________________________________________________\n",
      "Layer (type)                 Output Shape              Param #   \n",
      "=================================================================\n",
      "conv2d_5 (Conv2D)            (None, 32, 32, 32)        896       \n",
      "_________________________________________________________________\n",
      "max_pooling2d_2 (MaxPooling2 (None, 16, 16, 32)        0         \n",
      "_________________________________________________________________\n",
      "conv2d_6 (Conv2D)            (None, 16, 16, 64)        18496     \n",
      "_________________________________________________________________\n",
      "max_pooling2d_3 (MaxPooling2 (None, 8, 8, 64)          0         \n",
      "_________________________________________________________________\n",
      "conv2d_7 (Conv2D)            (None, 8, 8, 128)         73856     \n",
      "_________________________________________________________________\n",
      "max_pooling2d_4 (MaxPooling2 (None, 4, 4, 128)         0         \n",
      "_________________________________________________________________\n",
      "flatten_1 (Flatten)          (None, 2048)              0         \n",
      "_________________________________________________________________\n",
      "dense_1 (Dense)              (None, 512)               1049088   \n",
      "_________________________________________________________________\n",
      "dropout_1 (Dropout)          (None, 512)               0         \n",
      "_________________________________________________________________\n",
      "dense_2 (Dense)              (None, 1)                 513       \n",
      "=================================================================\n",
      "Total params: 1,142,849\n",
      "Trainable params: 1,142,849\n",
      "Non-trainable params: 0\n",
      "_________________________________________________________________\n"
     ]
    }
   ],
   "source": [
    "model.summary()"
   ]
  },
  {
   "cell_type": "markdown",
   "metadata": {},
   "source": [
    "Tenemos en total 1'142.849 parámetros!\n",
    "\n",
    "Ahora compilamos el modelo con un rmsprop, y una función de perdida de binary_crossentropy.\n"
   ]
  },
  {
   "cell_type": "code",
   "execution_count": 11,
   "metadata": {},
   "outputs": [],
   "source": [
    "from keras import optimizers\n",
    "\n",
    "model.compile(loss='binary_crossentropy',\n",
    "              optimizer=optimizers.RMSprop(lr=1e-4),\n",
    "              metrics=['acc'])"
   ]
  },
  {
   "cell_type": "code",
   "execution_count": 12,
   "metadata": {},
   "outputs": [
    {
     "name": "stdout",
     "output_type": "stream",
     "text": [
      "Train on 8000 samples, validate on 2000 samples\n",
      "Epoch 1/50\n",
      "8000/8000 [==============================] - 3s 334us/step - loss: 0.6795 - acc: 0.5620 - val_loss: 0.6744 - val_acc: 0.5890\n",
      "Epoch 2/50\n",
      "8000/8000 [==============================] - 1s 174us/step - loss: 0.6628 - acc: 0.5983 - val_loss: 0.6760 - val_acc: 0.5985\n",
      "Epoch 3/50\n",
      "8000/8000 [==============================] - 1s 167us/step - loss: 0.6442 - acc: 0.6303 - val_loss: 0.6328 - val_acc: 0.6530\n",
      "Epoch 4/50\n",
      "8000/8000 [==============================] - 1s 170us/step - loss: 0.6230 - acc: 0.6581 - val_loss: 0.6169 - val_acc: 0.6760\n",
      "Epoch 5/50\n",
      "8000/8000 [==============================] - 1s 169us/step - loss: 0.6037 - acc: 0.6735 - val_loss: 0.5993 - val_acc: 0.6805\n",
      "Epoch 6/50\n",
      "8000/8000 [==============================] - 1s 172us/step - loss: 0.5843 - acc: 0.6903 - val_loss: 0.5887 - val_acc: 0.6945\n",
      "Epoch 7/50\n",
      "8000/8000 [==============================] - 1s 173us/step - loss: 0.5670 - acc: 0.6996 - val_loss: 0.5826 - val_acc: 0.7020\n",
      "Epoch 8/50\n",
      "8000/8000 [==============================] - 1s 171us/step - loss: 0.5541 - acc: 0.7131 - val_loss: 0.5721 - val_acc: 0.6950\n",
      "Epoch 9/50\n",
      "8000/8000 [==============================] - 1s 172us/step - loss: 0.5387 - acc: 0.7254 - val_loss: 0.5700 - val_acc: 0.7005\n",
      "Epoch 10/50\n",
      "8000/8000 [==============================] - 1s 171us/step - loss: 0.5237 - acc: 0.7393 - val_loss: 0.5849 - val_acc: 0.7035\n",
      "Epoch 11/50\n",
      "8000/8000 [==============================] - 1s 177us/step - loss: 0.5132 - acc: 0.7464 - val_loss: 0.5561 - val_acc: 0.7280\n",
      "Epoch 12/50\n",
      "8000/8000 [==============================] - 1s 169us/step - loss: 0.4975 - acc: 0.7560 - val_loss: 0.5870 - val_acc: 0.7105\n",
      "Epoch 13/50\n",
      "8000/8000 [==============================] - 1s 172us/step - loss: 0.4869 - acc: 0.7624 - val_loss: 0.5542 - val_acc: 0.7200\n",
      "Epoch 14/50\n",
      "8000/8000 [==============================] - 1s 179us/step - loss: 0.4784 - acc: 0.7680 - val_loss: 0.5457 - val_acc: 0.7265\n",
      "Epoch 15/50\n",
      "8000/8000 [==============================] - 1s 175us/step - loss: 0.4626 - acc: 0.7771 - val_loss: 0.5653 - val_acc: 0.7255\n",
      "Epoch 16/50\n",
      "8000/8000 [==============================] - 1s 172us/step - loss: 0.4569 - acc: 0.7800 - val_loss: 0.5321 - val_acc: 0.7390\n",
      "Epoch 17/50\n",
      "8000/8000 [==============================] - 1s 171us/step - loss: 0.4424 - acc: 0.7936 - val_loss: 0.5288 - val_acc: 0.7445\n",
      "Epoch 18/50\n",
      "8000/8000 [==============================] - 1s 180us/step - loss: 0.4353 - acc: 0.7945 - val_loss: 0.5303 - val_acc: 0.7385\n",
      "Epoch 19/50\n",
      "8000/8000 [==============================] - 1s 182us/step - loss: 0.4240 - acc: 0.8010 - val_loss: 0.5543 - val_acc: 0.7395\n",
      "Epoch 20/50\n",
      "8000/8000 [==============================] - 1s 181us/step - loss: 0.4097 - acc: 0.8097 - val_loss: 0.5408 - val_acc: 0.7285\n",
      "Epoch 21/50\n",
      "8000/8000 [==============================] - 1s 175us/step - loss: 0.3995 - acc: 0.8149 - val_loss: 0.5355 - val_acc: 0.7375\n",
      "Epoch 22/50\n",
      "8000/8000 [==============================] - 1s 181us/step - loss: 0.3887 - acc: 0.8224 - val_loss: 0.5340 - val_acc: 0.7430\n",
      "Epoch 23/50\n",
      "8000/8000 [==============================] - 1s 181us/step - loss: 0.3781 - acc: 0.8315 - val_loss: 0.5376 - val_acc: 0.7485\n",
      "Epoch 24/50\n",
      "8000/8000 [==============================] - 1s 183us/step - loss: 0.3682 - acc: 0.8346 - val_loss: 0.5372 - val_acc: 0.7395\n",
      "Epoch 25/50\n",
      "8000/8000 [==============================] - 1s 186us/step - loss: 0.3540 - acc: 0.8452 - val_loss: 0.5239 - val_acc: 0.7490\n",
      "Epoch 26/50\n",
      "8000/8000 [==============================] - 1s 179us/step - loss: 0.3453 - acc: 0.8484 - val_loss: 0.5315 - val_acc: 0.7470\n",
      "Epoch 27/50\n",
      "8000/8000 [==============================] - 1s 178us/step - loss: 0.3346 - acc: 0.8561 - val_loss: 0.5351 - val_acc: 0.7490\n",
      "Epoch 28/50\n",
      "8000/8000 [==============================] - 1s 173us/step - loss: 0.3221 - acc: 0.8621 - val_loss: 0.6127 - val_acc: 0.7135\n",
      "Epoch 29/50\n",
      "8000/8000 [==============================] - 1s 181us/step - loss: 0.3111 - acc: 0.8696 - val_loss: 0.5431 - val_acc: 0.7420\n",
      "Epoch 30/50\n",
      "8000/8000 [==============================] - 1s 180us/step - loss: 0.2991 - acc: 0.8722 - val_loss: 0.5376 - val_acc: 0.7450\n",
      "Epoch 31/50\n",
      "8000/8000 [==============================] - 1s 186us/step - loss: 0.2892 - acc: 0.8796 - val_loss: 0.5446 - val_acc: 0.7430\n",
      "Epoch 32/50\n",
      "8000/8000 [==============================] - 1s 173us/step - loss: 0.2775 - acc: 0.8836 - val_loss: 0.5852 - val_acc: 0.7345\n",
      "Epoch 33/50\n",
      "8000/8000 [==============================] - 1s 182us/step - loss: 0.2683 - acc: 0.8892 - val_loss: 0.5451 - val_acc: 0.7555\n",
      "Epoch 34/50\n",
      "8000/8000 [==============================] - 1s 182us/step - loss: 0.2534 - acc: 0.8975 - val_loss: 0.5707 - val_acc: 0.7410\n",
      "Epoch 35/50\n",
      "8000/8000 [==============================] - 1s 178us/step - loss: 0.2428 - acc: 0.9067 - val_loss: 0.6406 - val_acc: 0.7295\n",
      "Epoch 36/50\n",
      "8000/8000 [==============================] - 1s 183us/step - loss: 0.2313 - acc: 0.9097 - val_loss: 0.6085 - val_acc: 0.7485\n",
      "Epoch 37/50\n",
      "8000/8000 [==============================] - 2s 188us/step - loss: 0.2221 - acc: 0.9151 - val_loss: 0.5780 - val_acc: 0.7445\n",
      "Epoch 38/50\n",
      "8000/8000 [==============================] - 1s 184us/step - loss: 0.2155 - acc: 0.9152 - val_loss: 0.5812 - val_acc: 0.7530\n",
      "Epoch 39/50\n",
      "8000/8000 [==============================] - 1s 176us/step - loss: 0.2009 - acc: 0.9272 - val_loss: 0.5650 - val_acc: 0.7585\n",
      "Epoch 40/50\n",
      "8000/8000 [==============================] - 1s 176us/step - loss: 0.1917 - acc: 0.9274 - val_loss: 0.5909 - val_acc: 0.7545\n",
      "Epoch 41/50\n",
      "8000/8000 [==============================] - 1s 175us/step - loss: 0.1812 - acc: 0.9332 - val_loss: 0.6830 - val_acc: 0.7305\n",
      "Epoch 42/50\n",
      "8000/8000 [==============================] - 1s 184us/step - loss: 0.1696 - acc: 0.9387 - val_loss: 0.6225 - val_acc: 0.7545\n",
      "Epoch 43/50\n",
      "8000/8000 [==============================] - 1s 174us/step - loss: 0.1632 - acc: 0.9422 - val_loss: 0.6134 - val_acc: 0.7545\n",
      "Epoch 44/50\n",
      "8000/8000 [==============================] - 1s 177us/step - loss: 0.1525 - acc: 0.9480 - val_loss: 0.6399 - val_acc: 0.7490\n",
      "Epoch 45/50\n",
      "8000/8000 [==============================] - 1s 176us/step - loss: 0.1428 - acc: 0.9504 - val_loss: 0.6606 - val_acc: 0.7445\n",
      "Epoch 46/50\n",
      "8000/8000 [==============================] - 1s 170us/step - loss: 0.1366 - acc: 0.9530 - val_loss: 0.6793 - val_acc: 0.7500\n",
      "Epoch 47/50\n",
      "8000/8000 [==============================] - 1s 175us/step - loss: 0.1263 - acc: 0.9566 - val_loss: 0.7855 - val_acc: 0.7160\n",
      "Epoch 48/50\n",
      "8000/8000 [==============================] - 1s 173us/step - loss: 0.1203 - acc: 0.9605 - val_loss: 0.6889 - val_acc: 0.7545\n",
      "Epoch 49/50\n",
      "8000/8000 [==============================] - 1s 175us/step - loss: 0.1114 - acc: 0.9652 - val_loss: 0.7349 - val_acc: 0.7505\n",
      "Epoch 50/50\n",
      "8000/8000 [==============================] - 1s 173us/step - loss: 0.1047 - acc: 0.9664 - val_loss: 0.7756 - val_acc: 0.7430\n"
     ]
    }
   ],
   "source": [
    "history = model.fit(train,ltrain,epochs=50,batch_size=50,validation_split=0.2)"
   ]
  },
  {
   "cell_type": "markdown",
   "metadata": {},
   "source": [
    "Vemos que en 50 épocas se obtuvo un accuracy del 96% para los datos de entrenamiento y del 74% para los datos de validación. A continuación se corre el modelo en nuestro conjunto de prueba"
   ]
  },
  {
   "cell_type": "code",
   "execution_count": 13,
   "metadata": {},
   "outputs": [
    {
     "name": "stdout",
     "output_type": "stream",
     "text": [
      "2000/2000 [==============================] - 0s 75us/step\n",
      "test loss: 0.7643420462608337, test accuracy: 0.742\n"
     ]
    }
   ],
   "source": [
    "test_loss, test_acc = model.evaluate(test, ltest)\n",
    "print(\"test loss: {}, test accuracy: {}\".format(test_loss, test_acc))"
   ]
  },
  {
   "cell_type": "markdown",
   "metadata": {},
   "source": [
    "Se obtuvo un accuracy del 76%. A continuación se evalúa el desempeño del modelo observando los datos de accuracy y loss por épocas"
   ]
  },
  {
   "cell_type": "code",
   "execution_count": 15,
   "metadata": {},
   "outputs": [
    {
     "data": {
      "image/png": "[encoded data removed]",
      "text/plain": [
       "<Figure size 432x288 with 1 Axes>"
      ]
     },
     "metadata": {},
     "output_type": "display_data"
    },
    {
     "data": {
      "image/png": "[encoded data removed]",
      "text/plain": [
       "<Figure size 432x288 with 1 Axes>"
      ]
     },
     "metadata": {},
     "output_type": "display_data"
    }
   ],
   "source": [
    "import matplotlib.pyplot as plt\n",
    "\n",
    "acc = history.history['acc']\n",
    "val_acc = history.history['val_acc']\n",
    "loss = history.history['loss']\n",
    "val_loss = history.history['val_loss']\n",
    "\n",
    "epochs = range(len(acc))\n",
    "\n",
    "plt.plot(epochs, acc, 'bo', label='Training acc')\n",
    "plt.plot(epochs, val_acc, 'b', label='Validation acc')\n",
    "plt.title('Training and validation accuracy')\n",
    "plt.legend()\n",
    "plt.show()\n",
    "\n",
    "plt.plot(epochs, loss, 'bo', label='Training loss')\n",
    "plt.plot(epochs, val_loss, 'b', label='Validation loss')\n",
    "plt.title('Training and validation loss')\n",
    "plt.legend()\n",
    "plt.show()"
   ]
  },
  {
   "cell_type": "markdown",
   "metadata": {},
   "source": [
    "Vemos que alrededor de la época 15 el accuracy deja de aumentar y el loss comienza a crecer. A continuación se plantea un modelo para clasificar las 10 categorías del dataset"
   ]
  },
  {
   "cell_type": "markdown",
   "metadata": {},
   "source": [
    "## Clasificador usando todos los datos"
   ]
  },
  {
   "cell_type": "markdown",
   "metadata": {},
   "source": [
    "Preprocesamiento de los Datos"
   ]
  },
  {
   "cell_type": "code",
   "execution_count": 16,
   "metadata": {},
   "outputs": [
    {
     "name": "stdout",
     "output_type": "stream",
     "text": [
      "[ 0.  0.  0.  0.  0.  0.  1.  0.  0.  0.]\n",
      "[ 0.  0.  0.  1.  0.  0.  0.  0.  0.  0.]\n"
     ]
    }
   ],
   "source": [
    "from keras.utils import to_categorical\n",
    "\n",
    "x_train = x_train.astype('float32') / 255\n",
    "x_test = x_test.astype('float32') / 255\n",
    "\n",
    "y_train = to_categorical(y_train)\n",
    "y_test = to_categorical(y_test)\n",
    "\n",
    "print(y_train[0])\n",
    "print(y_test[0])"
   ]
  },
  {
   "cell_type": "markdown",
   "metadata": {},
   "source": [
    "Se corrige el modelo añadiendo 10 neuronas en la última capa densa y cambiando el tipo de activación a softmax"
   ]
  },
  {
   "cell_type": "code",
   "execution_count": 17,
   "metadata": {},
   "outputs": [],
   "source": [
    "model1 = models.Sequential()\n",
    "model1.add(layers.Conv2D(32, (3, 3), activation='relu', padding='same',\n",
    "                        input_shape=(32, 32, 3)))\n",
    "model1.add(layers.MaxPooling2D((2, 2)))\n",
    "model1.add(layers.Conv2D(64, (3, 3), padding='same', activation='relu'))\n",
    "model1.add(layers.MaxPooling2D((2, 2)))\n",
    "model1.add(layers.Conv2D(128, (3, 3), padding='same', activation='relu'))\n",
    "model1.add(layers.MaxPooling2D((2, 2)))\n",
    "model1.add(layers.Flatten())\n",
    "model1.add(layers.Dense(512, activation='relu'))\n",
    "model1.add(layers.Dropout(0.3))\n",
    "model1.add(layers.Dense(10, activation='softmax'))"
   ]
  },
  {
   "cell_type": "code",
   "execution_count": 18,
   "metadata": {},
   "outputs": [
    {
     "name": "stdout",
     "output_type": "stream",
     "text": [
      "_________________________________________________________________\n",
      "Layer (type)                 Output Shape              Param #   \n",
      "=================================================================\n",
      "conv2d_8 (Conv2D)            (None, 32, 32, 32)        896       \n",
      "_________________________________________________________________\n",
      "max_pooling2d_5 (MaxPooling2 (None, 16, 16, 32)        0         \n",
      "_________________________________________________________________\n",
      "conv2d_9 (Conv2D)            (None, 16, 16, 64)        18496     \n",
      "_________________________________________________________________\n",
      "max_pooling2d_6 (MaxPooling2 (None, 8, 8, 64)          0         \n",
      "_________________________________________________________________\n",
      "conv2d_10 (Conv2D)           (None, 8, 8, 128)         73856     \n",
      "_________________________________________________________________\n",
      "max_pooling2d_7 (MaxPooling2 (None, 4, 4, 128)         0         \n",
      "_________________________________________________________________\n",
      "flatten_2 (Flatten)          (None, 2048)              0         \n",
      "_________________________________________________________________\n",
      "dense_3 (Dense)              (None, 512)               1049088   \n",
      "_________________________________________________________________\n",
      "dropout_2 (Dropout)          (None, 512)               0         \n",
      "_________________________________________________________________\n",
      "dense_4 (Dense)              (None, 10)                5130      \n",
      "=================================================================\n",
      "Total params: 1,147,466\n",
      "Trainable params: 1,147,466\n",
      "Non-trainable params: 0\n",
      "_________________________________________________________________\n"
     ]
    }
   ],
   "source": [
    "model1.summary()"
   ]
  },
  {
   "cell_type": "code",
   "execution_count": 19,
   "metadata": {},
   "outputs": [],
   "source": [
    "model1.compile(loss='binary_crossentropy',\n",
    "              optimizer=optimizers.RMSprop(lr=1e-4),\n",
    "              metrics=['acc'])"
   ]
  },
  {
   "cell_type": "markdown",
   "metadata": {},
   "source": [
    "Se corrieron 20 épocas teniendo en cuenta la evaluación del modelo anterior donde se observó que a partir de la 15va época se comenzaba a presentar overfitting"
   ]
  },
  {
   "cell_type": "code",
   "execution_count": 20,
   "metadata": {},
   "outputs": [
    {
     "name": "stdout",
     "output_type": "stream",
     "text": [
      "Train on 40000 samples, validate on 10000 samples\n",
      "Epoch 1/20\n",
      "40000/40000 [==============================] - 7s 187us/step - loss: 0.2688 - acc: 0.9033 - val_loss: 0.2407 - val_acc: 0.9086\n",
      "Epoch 2/20\n",
      "40000/40000 [==============================] - 7s 181us/step - loss: 0.2311 - acc: 0.9104 - val_loss: 0.2188 - val_acc: 0.9146\n",
      "Epoch 3/20\n",
      "40000/40000 [==============================] - 7s 182us/step - loss: 0.2146 - acc: 0.9163 - val_loss: 0.2101 - val_acc: 0.9171\n",
      "Epoch 4/20\n",
      "40000/40000 [==============================] - 7s 184us/step - loss: 0.2023 - acc: 0.9209 - val_loss: 0.1977 - val_acc: 0.9231\n",
      "Epoch 5/20\n",
      "40000/40000 [==============================] - 7s 178us/step - loss: 0.1916 - acc: 0.9253 - val_loss: 0.1913 - val_acc: 0.9254\n",
      "Epoch 6/20\n",
      "40000/40000 [==============================] - 7s 182us/step - loss: 0.1823 - acc: 0.9287 - val_loss: 0.1806 - val_acc: 0.9291\n",
      "Epoch 7/20\n",
      "40000/40000 [==============================] - 7s 184us/step - loss: 0.1741 - acc: 0.9316 - val_loss: 0.1721 - val_acc: 0.9329\n",
      "Epoch 8/20\n",
      "40000/40000 [==============================] - 7s 184us/step - loss: 0.1671 - acc: 0.9347 - val_loss: 0.1663 - val_acc: 0.9355\n",
      "Epoch 9/20\n",
      "40000/40000 [==============================] - 7s 182us/step - loss: 0.1603 - acc: 0.9372 - val_loss: 0.1637 - val_acc: 0.9356\n",
      "Epoch 10/20\n",
      "40000/40000 [==============================] - 7s 187us/step - loss: 0.1548 - acc: 0.9396 - val_loss: 0.1620 - val_acc: 0.9363\n",
      "Epoch 11/20\n",
      "40000/40000 [==============================] - 7s 184us/step - loss: 0.1493 - acc: 0.9419 - val_loss: 0.1552 - val_acc: 0.9397\n",
      "Epoch 12/20\n",
      "40000/40000 [==============================] - 8s 190us/step - loss: 0.1438 - acc: 0.9442 - val_loss: 0.1482 - val_acc: 0.9424\n",
      "Epoch 13/20\n",
      "40000/40000 [==============================] - 7s 185us/step - loss: 0.1389 - acc: 0.9460 - val_loss: 0.1510 - val_acc: 0.9410\n",
      "Epoch 14/20\n",
      "40000/40000 [==============================] - 7s 183us/step - loss: 0.1348 - acc: 0.9478 - val_loss: 0.1460 - val_acc: 0.9434\n",
      "Epoch 15/20\n",
      "40000/40000 [==============================] - 8s 189us/step - loss: 0.1306 - acc: 0.9494 - val_loss: 0.1378 - val_acc: 0.9467\n",
      "Epoch 16/20\n",
      "40000/40000 [==============================] - 8s 188us/step - loss: 0.1265 - acc: 0.9511 - val_loss: 0.1397 - val_acc: 0.9456\n",
      "Epoch 17/20\n",
      "40000/40000 [==============================] - 7s 186us/step - loss: 0.1223 - acc: 0.9531 - val_loss: 0.1365 - val_acc: 0.9467\n",
      "Epoch 18/20\n",
      "40000/40000 [==============================] - 7s 177us/step - loss: 0.1184 - acc: 0.9545 - val_loss: 0.1361 - val_acc: 0.9471\n",
      "Epoch 19/20\n",
      "40000/40000 [==============================] - 7s 181us/step - loss: 0.1147 - acc: 0.9559 - val_loss: 0.1323 - val_acc: 0.9490\n",
      "Epoch 20/20\n",
      "40000/40000 [==============================] - 7s 182us/step - loss: 0.1112 - acc: 0.9572 - val_loss: 0.1297 - val_acc: 0.9498\n"
     ]
    }
   ],
   "source": [
    "history1 = model1.fit(x_train,y_train,epochs=20,batch_size=50,validation_split=0.2)"
   ]
  },
  {
   "cell_type": "code",
   "execution_count": 21,
   "metadata": {},
   "outputs": [
    {
     "name": "stdout",
     "output_type": "stream",
     "text": [
      "10000/10000 [==============================] - 1s 76us/step\n",
      "Accuracy =  0.948829994774\n",
      "Loss =  0.131773523319\n"
     ]
    }
   ],
   "source": [
    "test_loss, test_acc = model1.evaluate(x_test, y_test)\n",
    "print('Accuracy = ', test_acc)\n",
    "print('Loss = ', test_loss)"
   ]
  },
  {
   "cell_type": "markdown",
   "metadata": {},
   "source": [
    "## Evaluación del modelo con las 10 categorías"
   ]
  },
  {
   "cell_type": "code",
   "execution_count": 22,
   "metadata": {},
   "outputs": [
    {
     "data": {
      "image/png": "[encoded data removed]",
      "text/plain": [
       "<Figure size 432x288 with 1 Axes>"
      ]
     },
     "metadata": {},
     "output_type": "display_data"
    },
    {
     "data": {
      "image/png": "[encoded data removed]",
      "text/plain": [
       "<Figure size 432x288 with 1 Axes>"
      ]
     },
     "metadata": {},
     "output_type": "display_data"
    }
   ],
   "source": [
    "import matplotlib.pyplot as plt\n",
    "\n",
    "acc = history1.history['acc']\n",
    "val_acc = history1.history['val_acc']\n",
    "loss = history1.history['loss']\n",
    "val_loss = history1.history['val_loss']\n",
    "\n",
    "epochs = range(len(acc))\n",
    "\n",
    "plt.plot(epochs, acc, 'bo', label='Training acc')\n",
    "plt.plot(epochs, val_acc, 'b', label='Validation acc')\n",
    "plt.title('Training and validation accuracy')\n",
    "plt.legend()\n",
    "\n",
    "plt.figure()\n",
    "\n",
    "plt.plot(epochs, loss, 'bo', label='Training loss')\n",
    "plt.plot(epochs, val_loss, 'b', label='Validation loss')\n",
    "plt.title('Training and validation loss')\n",
    "plt.legend()\n",
    "\n",
    "plt.show()"
   ]
  }
 ],
 "metadata": {
  "kernelspec": {
   "display_name": "Python 3",
   "language": "python",
   "name": "python3"
  },
  "language_info": {
   "codemirror_mode": {
    "name": "ipython",
    "version": 3
   },
   "file_extension": ".py",
   "mimetype": "text/x-python",
   "name": "python",
   "nbconvert_exporter": "python",
   "pygments_lexer": "ipython3",
   "version": "3.5.5"
  }
 },
 "nbformat": 4,
 "nbformat_minor": 2
}
